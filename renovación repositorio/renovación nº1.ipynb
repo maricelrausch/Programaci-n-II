{
 "cells": [
  {
   "cell_type": "code",
   "execution_count": 4,
   "metadata": {},
   "outputs": [
    {
     "name": "stdout",
     "output_type": "stream",
     "text": [
      "{'etica': 8, 'proyecto': 10}\n",
      "<class 'dict'>\n"
     ]
    }
   ],
   "source": [
    "notas={\"etica\":8, \"proyecto\":10}\n",
    "print(notas)\n",
    "print(type(notas))"
   ]
  }
 ],
 "metadata": {
  "kernelspec": {
   "display_name": "Python 3",
   "language": "python",
   "name": "python3"
  },
  "language_info": {
   "codemirror_mode": {
    "name": "ipython",
    "version": 3
   },
   "file_extension": ".py",
   "mimetype": "text/x-python",
   "name": "python",
   "nbconvert_exporter": "python",
   "pygments_lexer": "ipython3",
   "version": "3.12.3"
  }
 },
 "nbformat": 4,
 "nbformat_minor": 2
}
